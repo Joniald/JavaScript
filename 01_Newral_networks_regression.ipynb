{
  "nbformat": 4,
  "nbformat_minor": 0,
  "metadata": {
    "colab": {
      "name": "01_Newral_networks_regression.ipynb",
      "provenance": [],
      "authorship_tag": "ABX9TyPJBK69N5O0oXuH0BvZRZSl",
      "include_colab_link": true
    },
    "kernelspec": {
      "name": "python3",
      "display_name": "Python 3"
    },
    "language_info": {
      "name": "python"
    }
  },
  "cells": [
    {
      "cell_type": "markdown",
      "metadata": {
        "id": "view-in-github",
        "colab_type": "text"
      },
      "source": [
        "<a href=\"https://colab.research.google.com/github/Joniald/JavaScript/blob/main/01_Newral_networks_regression.ipynb\" target=\"_parent\"><img src=\"https://colab.research.google.com/assets/colab-badge.svg\" alt=\"Open In Colab\"/></a>"
      ]
    },
    {
      "cell_type": "code",
      "metadata": {
        "colab": {
          "base_uri": "https://localhost:8080/"
        },
        "id": "taEFS9Qqu-I3",
        "outputId": "d41bc447-c8ba-4870-a9ef-2e6d9020d4ac"
      },
      "source": [
        "import tensorflow as tf\n",
        "print(tf.__version__)\n",
        "import numpy as np\n",
        "print(np.__version__)\n",
        "import matplotlib.pyplot as plt"
      ],
      "execution_count": 1,
      "outputs": [
        {
          "output_type": "stream",
          "name": "stdout",
          "text": [
            "2.6.0\n",
            "1.19.5\n"
          ]
        }
      ]
    },
    {
      "cell_type": "markdown",
      "metadata": {
        "id": "ztPp43aB4AgL"
      },
      "source": [
        "# Our data"
      ]
    },
    {
      "cell_type": "code",
      "metadata": {
        "colab": {
          "base_uri": "https://localhost:8080/",
          "height": 265
        },
        "id": "WLKsYQZI1E6P",
        "outputId": "ff238517-0c80-4c1d-9434-951a25dfa1eb"
      },
      "source": [
        "a, b = 1.7, -14.3\n",
        "arr1 = np.arange(-100,101,1)\n",
        "arr2 = a*np.arange(-100,101,1) + b\n",
        "np.random.seed(42)\n",
        "arr3 = 2*np.random.rand(201)\n",
        "arr4 = 20*np.random.rand(201)\n",
        "\n",
        "arr_x = arr1 + arr3\n",
        "arr_y = arr2 + arr4\n",
        "plt.scatter(arr_x,arr_y, marker=\".\")\n",
        "plt.show()"
      ],
      "execution_count": 2,
      "outputs": [
        {
          "output_type": "display_data",
          "data": {
            "image/png": "[encoded data removed]",
            "text/plain": [
              "<Figure size 432x288 with 1 Axes>"
            ]
          },
          "metadata": {
            "needs_background": "light"
          }
        }
      ]
    },
    {
      "cell_type": "code",
      "metadata": {
        "colab": {
          "base_uri": "https://localhost:8080/"
        },
        "id": "grovCKpT4G-f",
        "outputId": "a9cd8228-f802-4378-c3a1-6b8cbd6b889a"
      },
      "source": [
        "X = tf.constant(arr_x)\n",
        "Y = tf.constant(arr_y)\n",
        "X.shape, Y.shape"
      ],
      "execution_count": 3,
      "outputs": [
        {
          "output_type": "execute_result",
          "data": {
            "text/plain": [
              "(TensorShape([201]), TensorShape([201]))"
            ]
          },
          "metadata": {},
          "execution_count": 3
        }
      ]
    },
    {
      "cell_type": "markdown",
      "metadata": {
        "id": "mXOlBjpmDnxW"
      },
      "source": [
        "# Our model"
      ]
    },
    {
      "cell_type": "code",
      "metadata": {
        "colab": {
          "base_uri": "https://localhost:8080/"
        },
        "id": "MKtDYVst8Bsv",
        "outputId": "00042d1f-44f1-4b7e-f064-74cfce2bc502"
      },
      "source": [
        "# The model\n",
        "model = tf.keras.Sequential([\n",
        "            tf.keras.layers.Dense(1)                 \n",
        "])\n",
        "\n",
        "# Compile\n",
        "model.compile(\n",
        "    loss = tf.keras.losses.mae,\n",
        "    optimizer = tf.keras.optimizers.SGD(),\n",
        "    metrics = tf.keras.metrics.mae\n",
        ")\n",
        "\n",
        "# Fit\n",
        "model.fit(X, Y, epochs=5)"
      ],
      "execution_count": 4,
      "outputs": [
        {
          "output_type": "stream",
          "name": "stdout",
          "text": [
            "Epoch 1/5\n",
            "7/7 [==============================] - 1s 2ms/step - loss: 72.3658 - mean_absolute_error: 72.3658\n",
            "Epoch 2/5\n",
            "7/7 [==============================] - 0s 2ms/step - loss: 11.3695 - mean_absolute_error: 11.3695\n",
            "Epoch 3/5\n",
            "7/7 [==============================] - 0s 2ms/step - loss: 10.9881 - mean_absolute_error: 10.9881\n",
            "Epoch 4/5\n",
            "7/7 [==============================] - 0s 2ms/step - loss: 12.0145 - mean_absolute_error: 12.0145\n",
            "Epoch 5/5\n",
            "7/7 [==============================] - 0s 2ms/step - loss: 11.6388 - mean_absolute_error: 11.6388\n"
          ]
        },
        {
          "output_type": "execute_result",
          "data": {
            "text/plain": [
              "<keras.callbacks.History at 0x7f1ed32ca390>"
            ]
          },
          "metadata": {},
          "execution_count": 4
        }
      ]
    },
    {
      "cell_type": "code",
      "metadata": {
        "colab": {
          "base_uri": "https://localhost:8080/",
          "height": 282
        },
        "id": "zO2Uaw1U9lFo",
        "outputId": "9bba0f84-d173-4dd0-efe6-fa5c3ca69172"
      },
      "source": [
        "Y_predict = model.predict(X)\n",
        "Y_predict = tf.squeeze(Y_predict, axis=-1)\n",
        "plt.scatter(X, Y, marker=\".\")\n",
        "plt.plot(X, Y_predict, \"r\")\n",
        "plt.show()\n",
        "print()"
      ],
      "execution_count": 5,
      "outputs": [
        {
          "output_type": "display_data",
          "data": {
            "image/png": "[encoded data removed]",
            "text/plain": [
              "<Figure size 432x288 with 1 Axes>"
            ]
          },
          "metadata": {
            "needs_background": "light"
          }
        },
        {
          "output_type": "stream",
          "name": "stdout",
          "text": [
            "\n"
          ]
        }
      ]
    },
    {
      "cell_type": "code",
      "metadata": {
        "colab": {
          "base_uri": "https://localhost:8080/"
        },
        "id": "1PfFgOZFBdIw",
        "outputId": "449e543d-28f3-45c6-8bef-672c2d127d64"
      },
      "source": [
        "print(model.layers[0].weights[0].numpy())\n",
        "print(model.layers[0].weights[1].numpy())"
      ],
      "execution_count": 6,
      "outputs": [
        {
          "output_type": "stream",
          "name": "stdout",
          "text": [
            "[[1.7018182]]\n",
            "[-0.10020832]\n"
          ]
        }
      ]
    },
    {
      "cell_type": "markdown",
      "metadata": {
        "id": "kbJc1vGvDt4i"
      },
      "source": [
        "# Improving the model"
      ]
    },
    {
      "cell_type": "code",
      "metadata": {
        "colab": {
          "base_uri": "https://localhost:8080/"
        },
        "id": "bLuDsfSdIwgE",
        "outputId": "e3fee975-cb9b-4fb5-e221-b3cb6a7e926d"
      },
      "source": [
        "model = tf.keras.Sequential([\n",
        "                    tf.keras.layers.Dense(50,activation='relu'),\n",
        "                    tf.keras.layers.Dense(50,activation='relu'),\n",
        "                    tf.keras.layers.Dense(1)         \n",
        "])\n",
        "\n",
        "model.compile(loss=tf.keras.losses.mae,\n",
        "              optimizer = tf.keras.optimizers.Adam(learning_rate=0.001),\n",
        "              metrics = tf.keras.metrics.mae)\n",
        "\n",
        "model.fit(X,Y, epochs=25)"
      ],
      "execution_count": 7,
      "outputs": [
        {
          "output_type": "stream",
          "name": "stdout",
          "text": [
            "Epoch 1/25\n",
            "7/7 [==============================] - 0s 2ms/step - loss: 78.4542 - mean_absolute_error: 78.4542\n",
            "Epoch 2/25\n",
            "7/7 [==============================] - 0s 2ms/step - loss: 72.6713 - mean_absolute_error: 72.6713\n",
            "Epoch 3/25\n",
            "7/7 [==============================] - 0s 2ms/step - loss: 66.8492 - mean_absolute_error: 66.8492\n",
            "Epoch 4/25\n",
            "7/7 [==============================] - 0s 2ms/step - loss: 61.4263 - mean_absolute_error: 61.4263\n",
            "Epoch 5/25\n",
            "7/7 [==============================] - 0s 2ms/step - loss: 55.5831 - mean_absolute_error: 55.5831\n",
            "Epoch 6/25\n",
            "7/7 [==============================] - 0s 2ms/step - loss: 49.3661 - mean_absolute_error: 49.3661\n",
            "Epoch 7/25\n",
            "7/7 [==============================] - 0s 2ms/step - loss: 42.0633 - mean_absolute_error: 42.0633\n",
            "Epoch 8/25\n",
            "7/7 [==============================] - 0s 2ms/step - loss: 33.8283 - mean_absolute_error: 33.8283\n",
            "Epoch 9/25\n",
            "7/7 [==============================] - 0s 3ms/step - loss: 26.2643 - mean_absolute_error: 26.2643\n",
            "Epoch 10/25\n",
            "7/7 [==============================] - 0s 2ms/step - loss: 22.0029 - mean_absolute_error: 22.0029\n",
            "Epoch 11/25\n",
            "7/7 [==============================] - 0s 2ms/step - loss: 15.4550 - mean_absolute_error: 15.4550\n",
            "Epoch 12/25\n",
            "7/7 [==============================] - 0s 2ms/step - loss: 8.3641 - mean_absolute_error: 8.3641\n",
            "Epoch 13/25\n",
            "7/7 [==============================] - 0s 2ms/step - loss: 6.2962 - mean_absolute_error: 6.2962\n",
            "Epoch 14/25\n",
            "7/7 [==============================] - 0s 2ms/step - loss: 6.1266 - mean_absolute_error: 6.1266\n",
            "Epoch 15/25\n",
            "7/7 [==============================] - 0s 2ms/step - loss: 5.8185 - mean_absolute_error: 5.8185\n",
            "Epoch 16/25\n",
            "7/7 [==============================] - 0s 3ms/step - loss: 5.7695 - mean_absolute_error: 5.7695\n",
            "Epoch 17/25\n",
            "7/7 [==============================] - 0s 3ms/step - loss: 5.6695 - mean_absolute_error: 5.6695\n",
            "Epoch 18/25\n",
            "7/7 [==============================] - 0s 2ms/step - loss: 5.6298 - mean_absolute_error: 5.6298\n",
            "Epoch 19/25\n",
            "7/7 [==============================] - 0s 2ms/step - loss: 5.6445 - mean_absolute_error: 5.6445\n",
            "Epoch 20/25\n",
            "7/7 [==============================] - 0s 2ms/step - loss: 5.6170 - mean_absolute_error: 5.6170\n",
            "Epoch 21/25\n",
            "7/7 [==============================] - 0s 3ms/step - loss: 5.6992 - mean_absolute_error: 5.6992\n",
            "Epoch 22/25\n",
            "7/7 [==============================] - 0s 2ms/step - loss: 5.6630 - mean_absolute_error: 5.6630\n",
            "Epoch 23/25\n",
            "7/7 [==============================] - 0s 2ms/step - loss: 5.5857 - mean_absolute_error: 5.5857\n",
            "Epoch 24/25\n",
            "7/7 [==============================] - 0s 2ms/step - loss: 5.6479 - mean_absolute_error: 5.6479\n",
            "Epoch 25/25\n",
            "7/7 [==============================] - 0s 2ms/step - loss: 5.6309 - mean_absolute_error: 5.6309\n"
          ]
        },
        {
          "output_type": "execute_result",
          "data": {
            "text/plain": [
              "<keras.callbacks.History at 0x7f1ec7f2e090>"
            ]
          },
          "metadata": {},
          "execution_count": 7
        }
      ]
    },
    {
      "cell_type": "markdown",
      "metadata": {
        "id": "jJz8ObAqND2R"
      },
      "source": [
        "# Evaluating the model"
      ]
    },
    {
      "cell_type": "code",
      "metadata": {
        "id": "DHt5yA-QU2Ms"
      },
      "source": [
        "from sklearn.model_selection import train_test_split\n",
        "X_train, X_test, Y_train, Y_test = train_test_split(arr_x, arr_y, test_size=0.2, random_state=42)"
      ],
      "execution_count": 8,
      "outputs": []
    },
    {
      "cell_type": "code",
      "metadata": {
        "colab": {
          "base_uri": "https://localhost:8080/"
        },
        "id": "N0kU8ksZVt0K",
        "outputId": "0da2ad99-2865-4539-db0e-5344d258cbca"
      },
      "source": [
        "X_train = tf.constant(X_train)\n",
        "Y_train = tf.constant(Y_train)\n",
        "X_test = tf.constant(X_test)\n",
        "Y_test = tf.constant(Y_test)\n",
        "print(X_train.shape, Y_train.shape, X_test.shape, Y_test.shape)"
      ],
      "execution_count": 9,
      "outputs": [
        {
          "output_type": "stream",
          "name": "stdout",
          "text": [
            "(160,) (160,) (41,) (41,)\n"
          ]
        }
      ]
    },
    {
      "cell_type": "code",
      "metadata": {
        "colab": {
          "base_uri": "https://localhost:8080/",
          "height": 265
        },
        "id": "MuB29-nRWG3d",
        "outputId": "c553466c-1c4c-4f51-f904-7006bfc8bb49"
      },
      "source": [
        "plt.scatter(X_train, Y_train, marker=\".\")\n",
        "plt.scatter(X_test, Y_test, marker=\".\")\n",
        "plt.show()"
      ],
      "execution_count": 10,
      "outputs": [
        {
          "output_type": "display_data",
          "data": {
            "image/png": "[encoded data removed]",
            "text/plain": [
              "<Figure size 432x288 with 1 Axes>"
            ]
          },
          "metadata": {
            "needs_background": "light"
          }
        }
      ]
    },
    {
      "cell_type": "code",
      "metadata": {
        "colab": {
          "base_uri": "https://localhost:8080/"
        },
        "id": "oB1d1mprdFDP",
        "outputId": "09ed4737-8c01-4905-9877-4d07a3680bf9"
      },
      "source": [
        "model = tf.keras.Sequential([\n",
        "                    tf.keras.layers.Dense(50,activation='relu'),\n",
        "                    tf.keras.layers.Dense(50,activation='relu'),\n",
        "                    tf.keras.layers.Dense(50, activation='relu'),\n",
        "                    tf.keras.layers.Dense(1)         \n",
        "])\n",
        "\n",
        "model.compile(loss=tf.keras.losses.mae,\n",
        "              optimizer = tf.keras.optimizers.Adam(learning_rate=0.001),\n",
        "              metrics = tf.keras.metrics.mae)\n",
        "\n",
        "model.fit(X_train, Y_train, epochs=75, verbose=False)"
      ],
      "execution_count": 11,
      "outputs": [
        {
          "output_type": "execute_result",
          "data": {
            "text/plain": [
              "<keras.callbacks.History at 0x7f1ebc31e550>"
            ]
          },
          "metadata": {},
          "execution_count": 11
        }
      ]
    },
    {
      "cell_type": "code",
      "metadata": {
        "colab": {
          "base_uri": "https://localhost:8080/"
        },
        "id": "raiOv7rMkB-g",
        "outputId": "566625c7-74dc-45dd-87cb-eba24c383a14"
      },
      "source": [
        "model.summary()"
      ],
      "execution_count": 12,
      "outputs": [
        {
          "output_type": "stream",
          "name": "stdout",
          "text": [
            "Model: \"sequential_2\"\n",
            "_________________________________________________________________\n",
            "Layer (type)                 Output Shape              Param #   \n",
            "=================================================================\n",
            "dense_4 (Dense)              (32, 50)                  100       \n",
            "_________________________________________________________________\n",
            "dense_5 (Dense)              (32, 50)                  2550      \n",
            "_________________________________________________________________\n",
            "dense_6 (Dense)              (32, 50)                  2550      \n",
            "_________________________________________________________________\n",
            "dense_7 (Dense)              (32, 1)                   51        \n",
            "=================================================================\n",
            "Total params: 5,251\n",
            "Trainable params: 5,251\n",
            "Non-trainable params: 0\n",
            "_________________________________________________________________\n"
          ]
        }
      ]
    },
    {
      "cell_type": "code",
      "metadata": {
        "colab": {
          "base_uri": "https://localhost:8080/",
          "height": 533
        },
        "id": "i1-yzL6ko1AL",
        "outputId": "cc76eb4b-7393-4f8a-c696-3841e6d00b80"
      },
      "source": [
        "from tensorflow.keras.utils import plot_model\n",
        "plot_model(model=model, show_shapes=True)"
      ],
      "execution_count": 13,
      "outputs": [
        {
          "output_type": "execute_result",
          "data": {
            "image/png": "[encoded data removed]",
            "text/plain": [
              "<IPython.core.display.Image object>"
            ]
          },
          "metadata": {},
          "execution_count": 13
        }
      ]
    },
    {
      "cell_type": "code",
      "metadata": {
        "colab": {
          "base_uri": "https://localhost:8080/",
          "height": 265
        },
        "id": "I-r4cIh9QfBC",
        "outputId": "b9500879-cdf5-4da1-f954-ee71776e9a74"
      },
      "source": [
        "%matplotlib inline\n",
        "Y_test_predict = model.predict(X_test) # SOS...The shape is now (41,1) and not 41\n",
        "Y_test_predict = tf.squeeze(Y_test_predict, axis=-1)\n",
        "plt.scatter(X_test, Y_test, c='r', label=\"Testing data\")\n",
        "plt.scatter(X_test, Y_test_predict, c=\"b\", label=\"Predicting data\")\n",
        "plt.show()"
      ],
      "execution_count": 14,
      "outputs": [
        {
          "output_type": "display_data",
          "data": {
            "image/png": "[encoded data removed]",
            "text/plain": [
              "<Figure size 432x288 with 1 Axes>"
            ]
          },
          "metadata": {
            "needs_background": "light"
          }
        }
      ]
    },
    {
      "cell_type": "code",
      "metadata": {
        "colab": {
          "base_uri": "https://localhost:8080/"
        },
        "id": "Q0UGu2ande5C",
        "outputId": "043d0207-a301-4328-bcff-67232fd569bb"
      },
      "source": [
        "model.evaluate(X_test, Y_test)"
      ],
      "execution_count": 15,
      "outputs": [
        {
          "output_type": "stream",
          "name": "stdout",
          "text": [
            "2/2 [==============================] - 0s 5ms/step - loss: 4.8256 - mean_absolute_error: 4.8256\n"
          ]
        },
        {
          "output_type": "execute_result",
          "data": {
            "text/plain": [
              "[4.825586795806885, 4.825586795806885]"
            ]
          },
          "metadata": {},
          "execution_count": 15
        }
      ]
    },
    {
      "cell_type": "code",
      "metadata": {
        "id": "7fQha4VqT3VN"
      },
      "source": [
        "model_00_mse = tf.metrics.mean_squared_error(Y_test, Y_test_predict)\n",
        "model_00_mae = tf.metrics.mean_absolute_error(Y_test, Y_test_predict)"
      ],
      "execution_count": 16,
      "outputs": []
    },
    {
      "cell_type": "markdown",
      "metadata": {
        "id": "LlTnwuqhuwAq"
      },
      "source": [
        "## Another model"
      ]
    },
    {
      "cell_type": "code",
      "metadata": {
        "colab": {
          "base_uri": "https://localhost:8080/"
        },
        "id": "AfqlU0pUlAxa",
        "outputId": "471db8eb-a7bb-44ac-9c84-5ae58bb76eee"
      },
      "source": [
        "model01 = tf.keras.Sequential([\n",
        "                    tf.keras.layers.Dense(200,activation='relu'),\n",
        "                    tf.keras.layers.Dense(100,activation='relu'),\n",
        "                    tf.keras.layers.Dense(50,activation='relu'),\n",
        "                    tf.keras.layers.Dense(1)                        \n",
        "])\n",
        "\n",
        "model01.compile(\n",
        "    loss = tf.keras.losses.mae,\n",
        "    optimizer = tf.keras.optimizers.Adam(learning_rate=0.001),\n",
        "    metrics = tf.keras.metrics.mae\n",
        ")\n",
        "\n",
        "model01.fit(X_train, Y_train, epochs=50)"
      ],
      "execution_count": 17,
      "outputs": [
        {
          "output_type": "stream",
          "name": "stdout",
          "text": [
            "Epoch 1/50\n",
            "5/5 [==============================] - 0s 5ms/step - loss: 84.0189 - mean_absolute_error: 84.0189\n",
            "Epoch 2/50\n",
            "5/5 [==============================] - 0s 3ms/step - loss: 72.5388 - mean_absolute_error: 72.5388\n",
            "Epoch 3/50\n",
            "5/5 [==============================] - 0s 3ms/step - loss: 60.3598 - mean_absolute_error: 60.3598\n",
            "Epoch 4/50\n",
            "5/5 [==============================] - 0s 4ms/step - loss: 45.5179 - mean_absolute_error: 45.5179\n",
            "Epoch 5/50\n",
            "5/5 [==============================] - 0s 3ms/step - loss: 25.5518 - mean_absolute_error: 25.5518\n",
            "Epoch 6/50\n",
            "5/5 [==============================] - 0s 3ms/step - loss: 13.8276 - mean_absolute_error: 13.8276\n",
            "Epoch 7/50\n",
            "5/5 [==============================] - 0s 3ms/step - loss: 10.0400 - mean_absolute_error: 10.0400\n",
            "Epoch 8/50\n",
            "5/5 [==============================] - 0s 3ms/step - loss: 8.7678 - mean_absolute_error: 8.7678\n",
            "Epoch 9/50\n",
            "5/5 [==============================] - 0s 4ms/step - loss: 7.0661 - mean_absolute_error: 7.0661\n",
            "Epoch 10/50\n",
            "5/5 [==============================] - 0s 3ms/step - loss: 7.1183 - mean_absolute_error: 7.1183\n",
            "Epoch 11/50\n",
            "5/5 [==============================] - 0s 3ms/step - loss: 6.1348 - mean_absolute_error: 6.1348\n",
            "Epoch 12/50\n",
            "5/5 [==============================] - 0s 3ms/step - loss: 6.4388 - mean_absolute_error: 6.4388\n",
            "Epoch 13/50\n",
            "5/5 [==============================] - 0s 5ms/step - loss: 5.7766 - mean_absolute_error: 5.7766\n",
            "Epoch 14/50\n",
            "5/5 [==============================] - 0s 4ms/step - loss: 6.0085 - mean_absolute_error: 6.0085\n",
            "Epoch 15/50\n",
            "5/5 [==============================] - 0s 3ms/step - loss: 5.8685 - mean_absolute_error: 5.8685\n",
            "Epoch 16/50\n",
            "5/5 [==============================] - 0s 3ms/step - loss: 5.9022 - mean_absolute_error: 5.9022\n",
            "Epoch 17/50\n",
            "5/5 [==============================] - 0s 3ms/step - loss: 5.9238 - mean_absolute_error: 5.9238\n",
            "Epoch 18/50\n",
            "5/5 [==============================] - 0s 3ms/step - loss: 5.7737 - mean_absolute_error: 5.7737\n",
            "Epoch 19/50\n",
            "5/5 [==============================] - 0s 3ms/step - loss: 5.8271 - mean_absolute_error: 5.8271\n",
            "Epoch 20/50\n",
            "5/5 [==============================] - 0s 4ms/step - loss: 5.8287 - mean_absolute_error: 5.8287\n",
            "Epoch 21/50\n",
            "5/5 [==============================] - 0s 3ms/step - loss: 5.8392 - mean_absolute_error: 5.8392\n",
            "Epoch 22/50\n",
            "5/5 [==============================] - 0s 4ms/step - loss: 5.8484 - mean_absolute_error: 5.8484\n",
            "Epoch 23/50\n",
            "5/5 [==============================] - 0s 3ms/step - loss: 5.7900 - mean_absolute_error: 5.7900\n",
            "Epoch 24/50\n",
            "5/5 [==============================] - 0s 3ms/step - loss: 5.8352 - mean_absolute_error: 5.8352\n",
            "Epoch 25/50\n",
            "5/5 [==============================] - 0s 3ms/step - loss: 5.7863 - mean_absolute_error: 5.7863\n",
            "Epoch 26/50\n",
            "5/5 [==============================] - 0s 3ms/step - loss: 5.8187 - mean_absolute_error: 5.8187\n",
            "Epoch 27/50\n",
            "5/5 [==============================] - 0s 4ms/step - loss: 5.6884 - mean_absolute_error: 5.6884\n",
            "Epoch 28/50\n",
            "5/5 [==============================] - 0s 3ms/step - loss: 5.7586 - mean_absolute_error: 5.7586\n",
            "Epoch 29/50\n",
            "5/5 [==============================] - 0s 3ms/step - loss: 5.8260 - mean_absolute_error: 5.8260\n",
            "Epoch 30/50\n",
            "5/5 [==============================] - 0s 3ms/step - loss: 5.7220 - mean_absolute_error: 5.7220\n",
            "Epoch 31/50\n",
            "5/5 [==============================] - 0s 3ms/step - loss: 5.7258 - mean_absolute_error: 5.7258\n",
            "Epoch 32/50\n",
            "5/5 [==============================] - 0s 3ms/step - loss: 5.7067 - mean_absolute_error: 5.7067\n",
            "Epoch 33/50\n",
            "5/5 [==============================] - 0s 4ms/step - loss: 5.7181 - mean_absolute_error: 5.7181\n",
            "Epoch 34/50\n",
            "5/5 [==============================] - 0s 3ms/step - loss: 5.8543 - mean_absolute_error: 5.8543\n",
            "Epoch 35/50\n",
            "5/5 [==============================] - 0s 3ms/step - loss: 5.9868 - mean_absolute_error: 5.9868\n",
            "Epoch 36/50\n",
            "5/5 [==============================] - 0s 4ms/step - loss: 5.9170 - mean_absolute_error: 5.9170\n",
            "Epoch 37/50\n",
            "5/5 [==============================] - 0s 3ms/step - loss: 5.9083 - mean_absolute_error: 5.9083\n",
            "Epoch 38/50\n",
            "5/5 [==============================] - 0s 3ms/step - loss: 5.8288 - mean_absolute_error: 5.8288\n",
            "Epoch 39/50\n",
            "5/5 [==============================] - 0s 4ms/step - loss: 5.6307 - mean_absolute_error: 5.6307\n",
            "Epoch 40/50\n",
            "5/5 [==============================] - 0s 3ms/step - loss: 5.7794 - mean_absolute_error: 5.7794\n",
            "Epoch 41/50\n",
            "5/5 [==============================] - 0s 3ms/step - loss: 5.6063 - mean_absolute_error: 5.6063\n",
            "Epoch 42/50\n",
            "5/5 [==============================] - 0s 3ms/step - loss: 5.6477 - mean_absolute_error: 5.6477\n",
            "Epoch 43/50\n",
            "5/5 [==============================] - 0s 3ms/step - loss: 5.6555 - mean_absolute_error: 5.6555\n",
            "Epoch 44/50\n",
            "5/5 [==============================] - 0s 3ms/step - loss: 5.5981 - mean_absolute_error: 5.5981\n",
            "Epoch 45/50\n",
            "5/5 [==============================] - 0s 4ms/step - loss: 5.5096 - mean_absolute_error: 5.5096\n",
            "Epoch 46/50\n",
            "5/5 [==============================] - 0s 3ms/step - loss: 5.8575 - mean_absolute_error: 5.8575\n",
            "Epoch 47/50\n",
            "5/5 [==============================] - 0s 7ms/step - loss: 5.5734 - mean_absolute_error: 5.5734\n",
            "Epoch 48/50\n",
            "5/5 [==============================] - 0s 4ms/step - loss: 5.5993 - mean_absolute_error: 5.5993\n",
            "Epoch 49/50\n",
            "5/5 [==============================] - 0s 4ms/step - loss: 5.6160 - mean_absolute_error: 5.6160\n",
            "Epoch 50/50\n",
            "5/5 [==============================] - 0s 3ms/step - loss: 5.6859 - mean_absolute_error: 5.6859\n"
          ]
        },
        {
          "output_type": "execute_result",
          "data": {
            "text/plain": [
              "<keras.callbacks.History at 0x7f1f1e7cab50>"
            ]
          },
          "metadata": {},
          "execution_count": 17
        }
      ]
    },
    {
      "cell_type": "code",
      "metadata": {
        "id": "vNCnXtrbnTe2"
      },
      "source": [
        "def compareGraphs(X_test, Y_test, model):\n",
        "  Y_test_predict = model.predict(X_test)\n",
        "  Y_test_predict = tf.squeeze(Y_test_predict, axis=-1)\n",
        "  plt.scatter(X_test, Y_test, marker='.')\n",
        "  plt.scatter(X_test, Y_test_predict, marker='.')\n",
        "  plt.show()"
      ],
      "execution_count": 18,
      "outputs": []
    },
    {
      "cell_type": "code",
      "metadata": {
        "colab": {
          "base_uri": "https://localhost:8080/",
          "height": 265
        },
        "id": "YZAZmNLSob4I",
        "outputId": "9bbb2462-763e-4be6-cf59-6dac1d99338c"
      },
      "source": [
        "compareGraphs(X_test, Y_test, model01)"
      ],
      "execution_count": 19,
      "outputs": [
        {
          "output_type": "display_data",
          "data": {
            "image/png": "[encoded data removed]",
            "text/plain": [
              "<Figure size 432x288 with 1 Axes>"
            ]
          },
          "metadata": {
            "needs_background": "light"
          }
        }
      ]
    },
    {
      "cell_type": "code",
      "metadata": {
        "colab": {
          "base_uri": "https://localhost:8080/"
        },
        "id": "zY5yu_bPuB0k",
        "outputId": "90c920fd-a1b2-47bc-eda5-bc5c810fd3e6"
      },
      "source": [
        "me_01 = model01.evaluate(X_test, Y_test, return_dict=False)\n",
        "arr = np.array(me_01)\n",
        "arr[0]"
      ],
      "execution_count": 20,
      "outputs": [
        {
          "output_type": "stream",
          "name": "stdout",
          "text": [
            "2/2 [==============================] - 0s 5ms/step - loss: 4.9200 - mean_absolute_error: 4.9200\n"
          ]
        },
        {
          "output_type": "execute_result",
          "data": {
            "text/plain": [
              "4.919964790344238"
            ]
          },
          "metadata": {},
          "execution_count": 20
        }
      ]
    },
    {
      "cell_type": "code",
      "metadata": {
        "id": "1wsL6j22vAby"
      },
      "source": [
        "Y_test_predict = model01.predict(X_test)\n",
        "Y_test_predict = tf.squeeze(Y_test_predict, axis=-1)\n",
        "model_01_mse = tf.metrics.mean_squared_error(Y_test, Y_test_predict)\n",
        "model_01_mae = tf.metrics.mean_absolute_error(Y_test, Y_test_predict)"
      ],
      "execution_count": 21,
      "outputs": []
    },
    {
      "cell_type": "code",
      "metadata": {
        "colab": {
          "base_uri": "https://localhost:8080/"
        },
        "id": "afoHaGvZ0Cho",
        "outputId": "30578ce9-1bb4-455b-d8b6-635da0b9d8a1"
      },
      "source": [
        "print(model_00_mse.numpy(), model_01_mse.numpy())\n",
        "print(model_00_mae.numpy(), model_01_mae.numpy(), me_01[0])"
      ],
      "execution_count": 22,
      "outputs": [
        {
          "output_type": "stream",
          "name": "stdout",
          "text": [
            "31.142412 33.5263\n",
            "4.8255877 4.9199634 4.919964790344238\n"
          ]
        }
      ]
    },
    {
      "cell_type": "markdown",
      "metadata": {
        "id": "nkqlgFDp9RoG"
      },
      "source": [
        "## Saving and Loading the model"
      ]
    },
    {
      "cell_type": "code",
      "metadata": {
        "colab": {
          "base_uri": "https://localhost:8080/"
        },
        "id": "MDsKLAtD60KH",
        "outputId": "ac2ff9d9-76b4-494e-b4be-6c89570fe2bb"
      },
      "source": [
        "model.save(\"SavedModels/regression\")"
      ],
      "execution_count": 23,
      "outputs": [
        {
          "output_type": "stream",
          "name": "stdout",
          "text": [
            "INFO:tensorflow:Assets written to: SavedModels/regression/assets\n"
          ]
        }
      ]
    },
    {
      "cell_type": "code",
      "metadata": {
        "id": "MCGQEv307EmK"
      },
      "source": [
        "newModel = tf.keras.models.load_model(\"SavedModels/regression\")"
      ],
      "execution_count": 24,
      "outputs": []
    },
    {
      "cell_type": "code",
      "metadata": {
        "colab": {
          "base_uri": "https://localhost:8080/"
        },
        "id": "DIM00j978m9Z",
        "outputId": "1c12e09f-85f7-42aa-83d0-b8d20ca09133"
      },
      "source": [
        "newModel.evaluate(X_test,Y_test)"
      ],
      "execution_count": 25,
      "outputs": [
        {
          "output_type": "stream",
          "name": "stdout",
          "text": [
            "2/2 [==============================] - 0s 7ms/step - loss: 4.8256 - mean_absolute_error: 4.8256\n"
          ]
        },
        {
          "output_type": "execute_result",
          "data": {
            "text/plain": [
              "[4.825586795806885, 4.825586795806885]"
            ]
          },
          "metadata": {},
          "execution_count": 25
        }
      ]
    },
    {
      "cell_type": "code",
      "metadata": {
        "colab": {
          "base_uri": "https://localhost:8080/",
          "height": 34
        },
        "id": "iiiutKG3-7q8",
        "outputId": "7ae27739-2b08-485b-8150-0cd83a99606d"
      },
      "source": [
        "from google.colab import files\n",
        "files.download(\"SavedModels/regression\")"
      ],
      "execution_count": 26,
      "outputs": [
        {
          "output_type": "display_data",
          "data": {
            "application/javascript": [
              "\n",
              "    async function download(id, filename, size) {\n",
              "      if (!google.colab.kernel.accessAllowed) {\n",
              "        return;\n",
              "      }\n",
              "      const div = document.createElement('div');\n",
              "      const label = document.createElement('label');\n",
              "      label.textContent = `Downloading \"${filename}\": `;\n",
              "      div.appendChild(label);\n",
              "      const progress = document.createElement('progress');\n",
              "      progress.max = size;\n",
              "      div.appendChild(progress);\n",
              "      document.body.appendChild(div);\n",
              "\n",
              "      const buffers = [];\n",
              "      let downloaded = 0;\n",
              "\n",
              "      const channel = await google.colab.kernel.comms.open(id);\n",
              "      // Send a message to notify the kernel that we're ready.\n",
              "      channel.send({})\n",
              "\n",
              "      for await (const message of channel.messages) {\n",
              "        // Send a message to notify the kernel that we're ready.\n",
              "        channel.send({})\n",
              "        if (message.buffers) {\n",
              "          for (const buffer of message.buffers) {\n",
              "            buffers.push(buffer);\n",
              "            downloaded += buffer.byteLength;\n",
              "            progress.value = downloaded;\n",
              "          }\n",
              "        }\n",
              "      }\n",
              "      const blob = new Blob(buffers, {type: 'application/binary'});\n",
              "      const a = document.createElement('a');\n",
              "      a.href = window.URL.createObjectURL(blob);\n",
              "      a.download = filename;\n",
              "      div.appendChild(a);\n",
              "      a.click();\n",
              "      div.remove();\n",
              "    }\n",
              "  "
            ],
            "text/plain": [
              "<IPython.core.display.Javascript object>"
            ]
          },
          "metadata": {}
        },
        {
          "output_type": "display_data",
          "data": {
            "application/javascript": [
              "download(\"download_36d6b334-bc18-4c53-a457-ec215e161ae1\", \"regression\", 4096)"
            ],
            "text/plain": [
              "<IPython.core.display.Javascript object>"
            ]
          },
          "metadata": {}
        }
      ]
    }
  ]
}