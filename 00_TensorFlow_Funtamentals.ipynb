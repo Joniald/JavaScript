{
  "nbformat": 4,
  "nbformat_minor": 0,
  "metadata": {
    "colab": {
      "name": "00_TensorFlow_Funtamentals.ipynb",
      "provenance": [],
      "collapsed_sections": [],
      "authorship_tag": "ABX9TyOnhCtmtKYlsWzjidO1GrZA",
      "include_colab_link": true
    },
    "kernelspec": {
      "name": "python3",
      "display_name": "Python 3"
    },
    "language_info": {
      "name": "python"
    }
  },
  "cells": [
    {
      "cell_type": "markdown",
      "metadata": {
        "id": "view-in-github",
        "colab_type": "text"
      },
      "source": [
        "<a href=\"https://colab.research.google.com/github/Joniald/JavaScript/blob/main/00_TensorFlow_Funtamentals.ipynb\" target=\"_parent\"><img src=\"https://colab.research.google.com/assets/colab-badge.svg\" alt=\"Open In Colab\"/></a>"
      ]
    },
    {
      "cell_type": "code",
      "metadata": {
        "colab": {
          "base_uri": "https://localhost:8080/"
        },
        "id": "vqbK2cF8wt8k",
        "outputId": "4bf19abe-e44f-429a-9f65-25beb3cb5dc7"
      },
      "source": [
        "import numpy as np\n",
        "import tensorflow as tf\n",
        "print(tf.__version__)"
      ],
      "execution_count": 1,
      "outputs": [
        {
          "output_type": "stream",
          "name": "stdout",
          "text": [
            "2.6.0\n"
          ]
        }
      ]
    },
    {
      "cell_type": "markdown",
      "metadata": {
        "id": "As13PYjTyThL"
      },
      "source": [
        "# TensorFlow"
      ]
    },
    {
      "cell_type": "markdown",
      "metadata": {
        "id": "sze7e8XuxygC"
      },
      "source": [
        "## Fumtamentals in tensorflow\n",
        "* Some commands\n"
      ]
    },
    {
      "cell_type": "code",
      "metadata": {
        "colab": {
          "base_uri": "https://localhost:8080/"
        },
        "id": "a6UVTWSKzO9x",
        "outputId": "5431abfc-b5bd-480e-e45e-3df7ef95b903"
      },
      "source": [
        "tf1 = tf.constant(2)\n",
        "tf2 = tf.constant([2,3])\n",
        "tf3 = tf.constant([[2,3],[4,5],[7,9]])\n",
        "tf4 = tf.constant(np.random.randint(10,size=(3,2,5)))\n",
        "print(tf1,tf2,tf3,tf4)"
      ],
      "execution_count": 2,
      "outputs": [
        {
          "output_type": "stream",
          "name": "stdout",
          "text": [
            "tf.Tensor(2, shape=(), dtype=int32) tf.Tensor([2 3], shape=(2,), dtype=int32) tf.Tensor(\n",
            "[[2 3]\n",
            " [4 5]\n",
            " [7 9]], shape=(3, 2), dtype=int32) tf.Tensor(\n",
            "[[[2 1 5 3 7]\n",
            "  [6 9 1 4 6]]\n",
            "\n",
            " [[4 8 1 7 6]\n",
            "  [3 8 7 6 2]]\n",
            "\n",
            " [[7 2 2 9 2]\n",
            "  [6 2 7 2 8]]], shape=(3, 2, 5), dtype=int64)\n"
          ]
        }
      ]
    },
    {
      "cell_type": "code",
      "metadata": {
        "colab": {
          "base_uri": "https://localhost:8080/"
        },
        "id": "KqdOgdW_XYgx",
        "outputId": "f4b8603d-6928-45ae-e943-e3487db34fdb"
      },
      "source": [
        "tf2*2\n",
        "tf.multiply(tf2,2)"
      ],
      "execution_count": 3,
      "outputs": [
        {
          "output_type": "execute_result",
          "data": {
            "text/plain": [
              "<tf.Tensor: shape=(2,), dtype=int32, numpy=array([4, 6], dtype=int32)>"
            ]
          },
          "metadata": {},
          "execution_count": 3
        }
      ]
    },
    {
      "cell_type": "code",
      "metadata": {
        "colab": {
          "base_uri": "https://localhost:8080/"
        },
        "id": "JekANfWk1zP6",
        "outputId": "bac41286-cceb-4cfe-8d68-447ff6f477ab"
      },
      "source": [
        "arr1 = np.array([2,3,4])\n",
        "arr1.size"
      ],
      "execution_count": 4,
      "outputs": [
        {
          "output_type": "execute_result",
          "data": {
            "text/plain": [
              "3"
            ]
          },
          "metadata": {},
          "execution_count": 4
        }
      ]
    },
    {
      "cell_type": "code",
      "metadata": {
        "colab": {
          "base_uri": "https://localhost:8080/"
        },
        "id": "KZ6g3YXO2xA0",
        "outputId": "e4642017-900f-42b4-8102-8b0550365be3"
      },
      "source": [
        "arr2 = np.array(tf4)\n",
        "arr2.size"
      ],
      "execution_count": 5,
      "outputs": [
        {
          "output_type": "execute_result",
          "data": {
            "text/plain": [
              "30"
            ]
          },
          "metadata": {},
          "execution_count": 5
        }
      ]
    },
    {
      "cell_type": "code",
      "metadata": {
        "colab": {
          "base_uri": "https://localhost:8080/"
        },
        "id": "G_6IzyiW3K72",
        "outputId": "69c14170-2342-40f8-ef8a-8d4c714efdde"
      },
      "source": [
        "tf5 = tf.constant(arr1)\n",
        "tf5"
      ],
      "execution_count": 6,
      "outputs": [
        {
          "output_type": "execute_result",
          "data": {
            "text/plain": [
              "<tf.Tensor: shape=(3,), dtype=int64, numpy=array([2, 3, 4])>"
            ]
          },
          "metadata": {},
          "execution_count": 6
        }
      ]
    },
    {
      "cell_type": "code",
      "metadata": {
        "colab": {
          "base_uri": "https://localhost:8080/"
        },
        "id": "YCoKsgwQ4lB1",
        "outputId": "d42892ad-4cfd-4051-d990-3625914a62e7"
      },
      "source": [
        "tf6 = tf.Variable([2,3,5])\n",
        "tf6.assign_add([1,1,1])\n"
      ],
      "execution_count": 7,
      "outputs": [
        {
          "output_type": "execute_result",
          "data": {
            "text/plain": [
              "<tf.Variable 'UnreadVariable' shape=(3,) dtype=int32, numpy=array([3, 4, 6], dtype=int32)>"
            ]
          },
          "metadata": {},
          "execution_count": 7
        }
      ]
    },
    {
      "cell_type": "code",
      "metadata": {
        "colab": {
          "base_uri": "https://localhost:8080/"
        },
        "id": "zJ-fr6Cf477N",
        "outputId": "1853bd9b-a9c1-4e9b-a3da-ffbd00d4b7fd"
      },
      "source": [
        "tf6[0].assign(10)"
      ],
      "execution_count": 8,
      "outputs": [
        {
          "output_type": "execute_result",
          "data": {
            "text/plain": [
              "<tf.Variable 'UnreadVariable' shape=(3,) dtype=int32, numpy=array([10,  4,  6], dtype=int32)>"
            ]
          },
          "metadata": {},
          "execution_count": 8
        }
      ]
    },
    {
      "cell_type": "code",
      "metadata": {
        "colab": {
          "base_uri": "https://localhost:8080/",
          "height": 734
        },
        "id": "cPBvmnQVFgqJ",
        "outputId": "2f2ad3e1-91ed-4e8b-a2f4-ab23a667fad4"
      },
      "source": [
        "import matplotlib.pyplot as plt\n",
        "rg = tf.random.Generator.from_seed(1)\n",
        "rand_normal = rg.uniform(shape=[1000,1])\n",
        "rn = tf.squeeze(rand_normal,axis=-1)\n",
        "print(rn.shape)\n",
        "df = tf.constant(np.arange(1,1001,1))\n",
        "print(df.shape)\n",
        "plt.figure(figsize=(12,12))\n",
        "plt.scatter(df.numpy(), rn.numpy(), marker=\".\")\n",
        "plt.show()\n"
      ],
      "execution_count": 82,
      "outputs": [
        {
          "output_type": "stream",
          "name": "stdout",
          "text": [
            "(1000,)\n",
            "(1000,)\n"
          ]
        },
        {
          "output_type": "display_data",
          "data": {
            "image/png": "[encoded data removed]",
            "text/plain": [
              "<Figure size 864x864 with 1 Axes>"
            ]
          },
          "metadata": {
            "needs_background": "light"
          }
        }
      ]
    },
    {
      "cell_type": "code",
      "metadata": {
        "id": "auhdvaVfSqIq"
      },
      "source": [
        "tf_new = tf.constant([\n",
        "                      [2,3],\n",
        "                      [4,5],\n",
        "                      [7,9],\n",
        "                      [3,1]\n",
        "])"
      ],
      "execution_count": 10,
      "outputs": []
    },
    {
      "cell_type": "code",
      "metadata": {
        "colab": {
          "base_uri": "https://localhost:8080/"
        },
        "id": "W74hVb-xS74I",
        "outputId": "7578409c-3af7-471c-d55f-e140b8a298d3"
      },
      "source": [
        "tf.random.set_seed(42)\n",
        "tf.random.shuffle(tf_new)"
      ],
      "execution_count": 11,
      "outputs": [
        {
          "output_type": "execute_result",
          "data": {
            "text/plain": [
              "<tf.Tensor: shape=(4, 2), dtype=int32, numpy=\n",
              "array([[3, 1],\n",
              "       [2, 3],\n",
              "       [4, 5],\n",
              "       [7, 9]], dtype=int32)>"
            ]
          },
          "metadata": {},
          "execution_count": 11
        }
      ]
    },
    {
      "cell_type": "code",
      "metadata": {
        "colab": {
          "base_uri": "https://localhost:8080/"
        },
        "id": "B6JkXrJ9V1Pr",
        "outputId": "97bac9d9-7921-48b0-ac4c-930d5dd4ac96"
      },
      "source": [
        "tf7 = tf.range(1,10,2)\n",
        "print(tf7)\n",
        "tf8 = tf.zeros(shape=(2,2))\n",
        "print(tf8)\n",
        "tf9 = tf.ones(shape=(3,3))\n",
        "print(tf9)"
      ],
      "execution_count": 12,
      "outputs": [
        {
          "output_type": "stream",
          "name": "stdout",
          "text": [
            "tf.Tensor([1 3 5 7 9], shape=(5,), dtype=int32)\n",
            "tf.Tensor(\n",
            "[[0. 0.]\n",
            " [0. 0.]], shape=(2, 2), dtype=float32)\n",
            "tf.Tensor(\n",
            "[[1. 1. 1.]\n",
            " [1. 1. 1.]\n",
            " [1. 1. 1.]], shape=(3, 3), dtype=float32)\n"
          ]
        }
      ]
    },
    {
      "cell_type": "code",
      "metadata": {
        "colab": {
          "base_uri": "https://localhost:8080/"
        },
        "id": "sCkKQlk2YaW8",
        "outputId": "93214005-64cc-4dd9-9562-53682e327756"
      },
      "source": [
        "tf9.shape, tf9.ndim, tf.size(tf9), tf9[0].shape"
      ],
      "execution_count": 19,
      "outputs": [
        {
          "output_type": "execute_result",
          "data": {
            "text/plain": [
              "(TensorShape([3, 3]),\n",
              " 2,\n",
              " <tf.Tensor: shape=(), dtype=int32, numpy=9>,\n",
              " TensorShape([3]))"
            ]
          },
          "metadata": {},
          "execution_count": 19
        }
      ]
    },
    {
      "cell_type": "code",
      "metadata": {
        "colab": {
          "base_uri": "https://localhost:8080/"
        },
        "id": "a-9Boxur1oSD",
        "outputId": "e9c6bb6a-39bd-45e3-e003-6ecac81e03a5"
      },
      "source": [
        "tf10 = tf.zeros(shape=(5,4,3,2))\n",
        "tf10"
      ],
      "execution_count": 50,
      "outputs": [
        {
          "output_type": "execute_result",
          "data": {
            "text/plain": [
              "<tf.Tensor: shape=(5, 4, 3, 2), dtype=float32, numpy=\n",
              "array([[[[0., 0.],\n",
              "         [0., 0.],\n",
              "         [0., 0.]],\n",
              "\n",
              "        [[0., 0.],\n",
              "         [0., 0.],\n",
              "         [0., 0.]],\n",
              "\n",
              "        [[0., 0.],\n",
              "         [0., 0.],\n",
              "         [0., 0.]],\n",
              "\n",
              "        [[0., 0.],\n",
              "         [0., 0.],\n",
              "         [0., 0.]]],\n",
              "\n",
              "\n",
              "       [[[0., 0.],\n",
              "         [0., 0.],\n",
              "         [0., 0.]],\n",
              "\n",
              "        [[0., 0.],\n",
              "         [0., 0.],\n",
              "         [0., 0.]],\n",
              "\n",
              "        [[0., 0.],\n",
              "         [0., 0.],\n",
              "         [0., 0.]],\n",
              "\n",
              "        [[0., 0.],\n",
              "         [0., 0.],\n",
              "         [0., 0.]]],\n",
              "\n",
              "\n",
              "       [[[0., 0.],\n",
              "         [0., 0.],\n",
              "         [0., 0.]],\n",
              "\n",
              "        [[0., 0.],\n",
              "         [0., 0.],\n",
              "         [0., 0.]],\n",
              "\n",
              "        [[0., 0.],\n",
              "         [0., 0.],\n",
              "         [0., 0.]],\n",
              "\n",
              "        [[0., 0.],\n",
              "         [0., 0.],\n",
              "         [0., 0.]]],\n",
              "\n",
              "\n",
              "       [[[0., 0.],\n",
              "         [0., 0.],\n",
              "         [0., 0.]],\n",
              "\n",
              "        [[0., 0.],\n",
              "         [0., 0.],\n",
              "         [0., 0.]],\n",
              "\n",
              "        [[0., 0.],\n",
              "         [0., 0.],\n",
              "         [0., 0.]],\n",
              "\n",
              "        [[0., 0.],\n",
              "         [0., 0.],\n",
              "         [0., 0.]]],\n",
              "\n",
              "\n",
              "       [[[0., 0.],\n",
              "         [0., 0.],\n",
              "         [0., 0.]],\n",
              "\n",
              "        [[0., 0.],\n",
              "         [0., 0.],\n",
              "         [0., 0.]],\n",
              "\n",
              "        [[0., 0.],\n",
              "         [0., 0.],\n",
              "         [0., 0.]],\n",
              "\n",
              "        [[0., 0.],\n",
              "         [0., 0.],\n",
              "         [0., 0.]]]], dtype=float32)>"
            ]
          },
          "metadata": {},
          "execution_count": 50
        }
      ]
    },
    {
      "cell_type": "code",
      "metadata": {
        "colab": {
          "base_uri": "https://localhost:8080/"
        },
        "id": "TF0Un1K82ZMH",
        "outputId": "cde4e1f0-7f23-4d63-9e3b-16d59a5075a7"
      },
      "source": [
        "tf10[4,:,:1,:1]"
      ],
      "execution_count": 62,
      "outputs": [
        {
          "output_type": "execute_result",
          "data": {
            "text/plain": [
              "<tf.Tensor: shape=(4, 1, 1), dtype=float32, numpy=\n",
              "array([[[0.]],\n",
              "\n",
              "       [[0.]],\n",
              "\n",
              "       [[0.]],\n",
              "\n",
              "       [[0.]]], dtype=float32)>"
            ]
          },
          "metadata": {},
          "execution_count": 62
        }
      ]
    },
    {
      "cell_type": "code",
      "metadata": {
        "id": "ynpVta4N6uDg"
      },
      "source": [
        "# SOS\n",
        "tf11 = tf.reshape(tf10,shape=(10,12))"
      ],
      "execution_count": 66,
      "outputs": []
    },
    {
      "cell_type": "code",
      "metadata": {
        "colab": {
          "base_uri": "https://localhost:8080/"
        },
        "id": "QbUcbGt9_uPR",
        "outputId": "ca494de1-1def-47d6-9e90-842489b3826f"
      },
      "source": [
        "# SOS\n",
        "tf12 = tf.expand_dims(tf11,axis=-1)\n",
        "tf12.shape"
      ],
      "execution_count": 68,
      "outputs": [
        {
          "output_type": "execute_result",
          "data": {
            "text/plain": [
              "TensorShape([10, 12, 1])"
            ]
          },
          "metadata": {},
          "execution_count": 68
        }
      ]
    },
    {
      "cell_type": "code",
      "metadata": {
        "colab": {
          "base_uri": "https://localhost:8080/"
        },
        "id": "Mz5QMivQDZqP",
        "outputId": "22f99ff9-36e7-4e31-d1be-f275abef20cc"
      },
      "source": [
        "# SOS\n",
        "tf13 = tf.squeeze(tf12, axis=-1)\n",
        "tf13.shape"
      ],
      "execution_count": 84,
      "outputs": [
        {
          "output_type": "execute_result",
          "data": {
            "text/plain": [
              "TensorShape([10, 12])"
            ]
          },
          "metadata": {},
          "execution_count": 84
        }
      ]
    }
  ]
}